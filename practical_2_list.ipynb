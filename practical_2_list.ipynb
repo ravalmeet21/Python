{
 "cells": [
  {
   "cell_type": "code",
   "execution_count": 15,
   "id": "25b6c147-e26b-432f-a05c-1bcee9761102",
   "metadata": {},
   "outputs": [],
   "source": [
    "L = [1,2,3,4,5,6,7,8,9,10,11,12,13,14,15,16,17,18,19,20]"
   ]
  },
  {
   "cell_type": "code",
   "execution_count": 16,
   "id": "9b828abf-5665-4f56-820e-956f67f02515",
   "metadata": {},
   "outputs": [
    {
     "name": "stdout",
     "output_type": "stream",
     "text": [
      "[1, 2, 3, 4, 5, 6, 7, 8, 9, 10, 11, 12, 13, 14, 15, 16, 17, 18, 19, 20]\n"
     ]
    }
   ],
   "source": [
    "print(L)"
   ]
  },
  {
   "cell_type": "code",
   "execution_count": 17,
   "id": "6d55ee0d-94dd-4949-8374-ce8736789b89",
   "metadata": {},
   "outputs": [],
   "source": [
    "L[11] = 'cspit'"
   ]
  },
  {
   "cell_type": "code",
   "execution_count": 18,
   "id": "19d8f1a0-bff1-4b57-94b7-9bdb02fef10b",
   "metadata": {},
   "outputs": [
    {
     "data": {
      "text/plain": [
       "[1, 2, 3, 4, 5, 6, 7, 8, 9, 10, 11, 'cspit', 13, 14, 15, 16, 17, 18, 19, 20]"
      ]
     },
     "execution_count": 18,
     "metadata": {},
     "output_type": "execute_result"
    }
   ],
   "source": [
    "L\n"
   ]
  },
  {
   "cell_type": "code",
   "execution_count": 20,
   "id": "a1a6bdca-65f4-4860-b4ed-567521780baf",
   "metadata": {},
   "outputs": [],
   "source": [
    "#append #insert\n",
    "L.append(200)"
   ]
  },
  {
   "cell_type": "code",
   "execution_count": 32,
   "id": "e42a8204-c0d8-4ca4-bd2f-6b0c95fc6d2f",
   "metadata": {},
   "outputs": [],
   "source": [
    "L.append(500)"
   ]
  },
  {
   "cell_type": "code",
   "execution_count": 37,
   "id": "913d279b-ef1d-4296-bed3-9296fc150daa",
   "metadata": {},
   "outputs": [
    {
     "name": "stdout",
     "output_type": "stream",
     "text": [
      "[1, 2, 3, 4, 5, 6, 7, 8, 9, 10, 11, 'cspit', 13, 14, 15, 16, 17, 18, 19, 20, 200, 300, 400, 0.6, 400, 300, 400, 300]\n"
     ]
    }
   ],
   "source": [
    "print(L)"
   ]
  },
  {
   "cell_type": "code",
   "execution_count": 40,
   "id": "04d0947f-a2fc-4512-b5c1-51fd5ac91fe7",
   "metadata": {},
   "outputs": [],
   "source": [
    "L.insert(5,'chausat')"
   ]
  },
  {
   "cell_type": "code",
   "execution_count": 41,
   "id": "aa466c97-5e49-4139-9d0c-bc52f8be842d",
   "metadata": {},
   "outputs": [
    {
     "name": "stdout",
     "output_type": "stream",
     "text": [
      "[1, 2, 3, 4, 5, 'chausat', 6, 7, 8, 9, 10, 11, 'cspit', 13, 14, 15, 16, 17, 18, 19, 20, 200, 300, 400, 0.6, 400, 300, 400, 300]\n"
     ]
    }
   ],
   "source": [
    "print(L)"
   ]
  },
  {
   "cell_type": "code",
   "execution_count": 49,
   "id": "60c67475-446a-4c8e-b863-01a5e26752b0",
   "metadata": {},
   "outputs": [],
   "source": [
    "L.remove('cspit')"
   ]
  },
  {
   "cell_type": "code",
   "execution_count": 50,
   "id": "20251947-29f3-4f83-a804-201cf41f70f8",
   "metadata": {},
   "outputs": [
    {
     "name": "stdout",
     "output_type": "stream",
     "text": [
      "[1, 2, 3, 4, 5, 'chausat', 6, 7, 8, 9, 10, 11, 13, 14, 15, 16, 17, 18, 19, 20, 200, 0.6]\n"
     ]
    }
   ],
   "source": [
    "print(L)"
   ]
  },
  {
   "cell_type": "code",
   "execution_count": 51,
   "id": "dbeef1cf-090f-4229-8103-14fa76051d57",
   "metadata": {},
   "outputs": [],
   "source": [
    "L.remove(0.6)"
   ]
  },
  {
   "cell_type": "code",
   "execution_count": 52,
   "id": "e9a911ac-33a5-495e-b65e-615de8baff6f",
   "metadata": {},
   "outputs": [
    {
     "name": "stdout",
     "output_type": "stream",
     "text": [
      "[1, 2, 3, 4, 5, 'chausat', 6, 7, 8, 9, 10, 11, 13, 14, 15, 16, 17, 18, 19, 20, 200]\n"
     ]
    }
   ],
   "source": [
    "print(L)"
   ]
  },
  {
   "cell_type": "code",
   "execution_count": 60,
   "id": "dc15d8ed-3c73-4ae6-ba2d-3e047c5ab8b5",
   "metadata": {},
   "outputs": [],
   "source": [
    "a,b,*c,d,e = L"
   ]
  },
  {
   "cell_type": "code",
   "execution_count": 61,
   "id": "fdc071c3-5d0d-4d21-a2d8-2b0470499593",
   "metadata": {},
   "outputs": [
    {
     "name": "stdout",
     "output_type": "stream",
     "text": [
      "1\n",
      "2\n",
      "[3, 4, 5, 'chausat', 6, 7, 8, 9, 10, 11, 13, 14, 15, 16, 17, 18, 19]\n",
      "20\n",
      "200\n"
     ]
    }
   ],
   "source": [
    "print(a)\n",
    "print(b)\n",
    "print(c)\n",
    "print(d)\n",
    "print(e)"
   ]
  },
  {
   "cell_type": "code",
   "execution_count": 63,
   "id": "02b71c29-2fb6-42c2-bf86-44e4541430a9",
   "metadata": {},
   "outputs": [
    {
     "name": "stdout",
     "output_type": "stream",
     "text": [
      "True\n"
     ]
    }
   ],
   "source": [
    "print( 3 in L)"
   ]
  },
  {
   "cell_type": "code",
   "execution_count": 65,
   "id": "cc93bb0b-b391-4a2e-832a-2dca1135dbfa",
   "metadata": {},
   "outputs": [
    {
     "name": "stdout",
     "output_type": "stream",
     "text": [
      "5\n"
     ]
    }
   ],
   "source": [
    "print(L.index('chausat'))"
   ]
  },
  {
   "cell_type": "code",
   "execution_count": 66,
   "id": "dcef1ef6-6a6f-4c84-8fb6-607c02b453ea",
   "metadata": {},
   "outputs": [
    {
     "name": "stdout",
     "output_type": "stream",
     "text": [
      "1\n"
     ]
    }
   ],
   "source": [
    "print(L.count(11))"
   ]
  },
  {
   "cell_type": "code",
   "execution_count": 67,
   "id": "0637cbb1-6a1d-40ff-96c3-962c9f4e25ae",
   "metadata": {},
   "outputs": [
    {
     "name": "stdout",
     "output_type": "stream",
     "text": [
      "0\n"
     ]
    }
   ],
   "source": [
    "print(L.count(111))"
   ]
  },
  {
   "cell_type": "code",
   "execution_count": 72,
   "id": "fab0fb44-5979-4f83-aaa6-6c258093a3fb",
   "metadata": {},
   "outputs": [],
   "source": [
    "L.reverse()"
   ]
  },
  {
   "cell_type": "code",
   "execution_count": 73,
   "id": "cd044cb1-6c4e-421b-aa21-6c2580089f71",
   "metadata": {},
   "outputs": [
    {
     "name": "stdout",
     "output_type": "stream",
     "text": [
      "[1, 2, 3, 4, 5, 'chausat', 6, 7, 8, 9, 10, 11, 13, 14, 15, 16, 17, 18, 19, 20, 200]\n"
     ]
    }
   ],
   "source": [
    "print(L)"
   ]
  },
  {
   "cell_type": "code",
   "execution_count": 76,
   "id": "ba9169a8-8075-492a-9abf-a344f9c25477",
   "metadata": {},
   "outputs": [
    {
     "name": "stdout",
     "output_type": "stream",
     "text": [
      "[12, 15, 14, 18, 19]\n",
      "[19, 18, 14, 15, 12]\n"
     ]
    }
   ],
   "source": [
    "l1 = [12,15,14,18,19,]\n",
    "print(l1)\n",
    "l1.reverse()\n",
    "print(l1)"
   ]
  },
  {
   "cell_type": "code",
   "execution_count": 77,
   "id": "39a5b88a-3427-45a8-b431-7d97ae556930",
   "metadata": {},
   "outputs": [],
   "source": [
    "l1.sort()"
   ]
  },
  {
   "cell_type": "code",
   "execution_count": 78,
   "id": "594342b7-9282-48ae-826c-45fa784e4042",
   "metadata": {},
   "outputs": [
    {
     "name": "stdout",
     "output_type": "stream",
     "text": [
      "[12, 14, 15, 18, 19]\n"
     ]
    }
   ],
   "source": [
    "print(l1)"
   ]
  },
  {
   "cell_type": "code",
   "execution_count": 79,
   "id": "1dca5dc2-1908-4609-9641-b8c14d7b1a7f",
   "metadata": {},
   "outputs": [],
   "source": [
    "list1 = [1,2,3,4,[\"python\",\"java\",\"c++\",[10,20,30]],5,6,7,[\"apple\",\"banana\",\"orange\"]]\n"
   ]
  },
  {
   "cell_type": "code",
   "execution_count": 80,
   "id": "1cd98225-65e2-4349-a58d-1659baff54e6",
   "metadata": {},
   "outputs": [
    {
     "name": "stdout",
     "output_type": "stream",
     "text": [
      "[1, 2, 3, 4, ['python', 'java', 'c++', [10, 20, 30]], 5, 6, 7, ['apple', 'banana', 'orange']]\n"
     ]
    }
   ],
   "source": [
    "print(list1)\n"
   ]
  },
  {
   "cell_type": "code",
   "execution_count": 87,
   "id": "b50fb61b-ae06-444d-8b83-ac408cc234a6",
   "metadata": {},
   "outputs": [
    {
     "name": "stdout",
     "output_type": "stream",
     "text": [
      "python orange\n"
     ]
    }
   ],
   "source": [
    "print(list1[4][0],list1[8][2])"
   ]
  },
  {
   "cell_type": "code",
   "execution_count": 89,
   "id": "0527f0c7-9880-4b51-8473-c8803b6ab7ec",
   "metadata": {},
   "outputs": [],
   "source": [
    "listt = [10,20,30,20,10] "
   ]
  },
  {
   "cell_type": "code",
   "execution_count": 90,
   "id": "faf9e631-bf55-4686-957c-70618ac8703e",
   "metadata": {},
   "outputs": [
    {
     "data": {
      "text/plain": [
       "[10, 20, 30, 20, 10]"
      ]
     },
     "execution_count": 90,
     "metadata": {},
     "output_type": "execute_result"
    }
   ],
   "source": [
    "listt"
   ]
  },
  {
   "cell_type": "code",
   "execution_count": 95,
   "id": "d73be64e-0e3b-458a-b20f-67f10148bc9b",
   "metadata": {},
   "outputs": [
    {
     "data": {
      "text/plain": [
       "{10, 20, 30}"
      ]
     },
     "execution_count": 95,
     "metadata": {},
     "output_type": "execute_result"
    }
   ],
   "source": [
    "li = set(listt)\n",
    "li"
   ]
  },
  {
   "cell_type": "code",
   "execution_count": 98,
   "id": "6887a8f7-635b-4e6a-bb2b-df4a4934a07d",
   "metadata": {},
   "outputs": [
    {
     "ename": "TypeError",
     "evalue": "'list' object is not callable",
     "output_type": "error",
     "traceback": [
      "\u001b[1;31m---------------------------------------------------------------------------\u001b[0m",
      "\u001b[1;31mTypeError\u001b[0m                                 Traceback (most recent call last)",
      "Cell \u001b[1;32mIn[98], line 1\u001b[0m\n\u001b[1;32m----> 1\u001b[0m listt \u001b[38;5;241m=\u001b[39m \u001b[38;5;28;43mlist\u001b[39;49m\u001b[43m(\u001b[49m\u001b[43mli\u001b[49m\u001b[43m)\u001b[49m\n",
      "\u001b[1;31mTypeError\u001b[0m: 'list' object is not callable"
     ]
    }
   ],
   "source": [
    "listt = list(li)"
   ]
  },
  {
   "cell_type": "code",
   "execution_count": null,
   "id": "e37c6896-11e7-4cdb-9b23-506e2efbbaa2",
   "metadata": {},
   "outputs": [],
   "source": []
  }
 ],
 "metadata": {
  "kernelspec": {
   "display_name": "Python 3 (ipykernel)",
   "language": "python",
   "name": "python3"
  },
  "language_info": {
   "codemirror_mode": {
    "name": "ipython",
    "version": 3
   },
   "file_extension": ".py",
   "mimetype": "text/x-python",
   "name": "python",
   "nbconvert_exporter": "python",
   "pygments_lexer": "ipython3",
   "version": "3.12.1"
  }
 },
 "nbformat": 4,
 "nbformat_minor": 5
}
